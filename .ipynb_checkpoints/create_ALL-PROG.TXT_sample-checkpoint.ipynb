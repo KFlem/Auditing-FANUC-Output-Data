{
 "cells": [
  {
   "cell_type": "code",
   "execution_count": 4,
   "metadata": {},
   "outputs": [],
   "source": [
    "import re\n",
    "\n",
    "filename = \"ALL-PROG_05.06.2020.txt\"\n",
    "with open(filename, 'r') as f:\n",
    "    dat = f.read()\n",
    "\n",
    "dat_noComments = re.sub(r\" ?\\([^)]+\\)\", \"\", dat)\n",
    "\n",
    "with open(\"sample_ALL-PROG.TXT\", 'w') as newf:\n",
    "    newf.write(dat_noComments)"
   ]
  }
 ],
 "metadata": {
  "kernelspec": {
   "display_name": "Python 3",
   "language": "python",
   "name": "python3"
  },
  "language_info": {
   "codemirror_mode": {
    "name": "ipython",
    "version": 3
   },
   "file_extension": ".py",
   "mimetype": "text/x-python",
   "name": "python",
   "nbconvert_exporter": "python",
   "pygments_lexer": "ipython3",
   "version": "3.7.4"
  }
 },
 "nbformat": 4,
 "nbformat_minor": 4
}
